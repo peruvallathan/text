{
 "cells": [
  {
   "cell_type": "markdown",
   "metadata": {
    "id": "j6V3-mcuXWBG"
   },
   "source": [
    "# Text Classification using FNet\n",
    "\n",
    "**Author:** [Abheesht Sharma](https://github.com/abheesht17/)<br>\n",
    "**Date created:** 2022/06/01<br>\n",
    "**Last modified:** 2022/12/21<br>\n",
    "**Description:** Text Classification on the IMDb Dataset using `keras_nlp.layers.FNetEncoder` layer."
   ]
  },
  {
   "cell_type": "markdown",
   "metadata": {
    "id": "wTU5MZRBXWBH"
   },
   "source": [
    "## Introduction\n",
    "\n",
    "In this example, we will demonstrate the ability of FNet to achieve comparable\n",
    "results with a vanilla Transformer model on the text classification task.\n",
    "We will be using the IMDb dataset, which is a\n",
    "collection of movie reviews labelled either positive or negative (sentiment\n",
    "analysis).\n",
    "\n",
    "To build the tokenizer, model, etc., we will use components from\n",
    "[KerasNLP](https://github.com/keras-team/keras-nlp). KerasNLP makes life easier\n",
    "for people who want to build NLP pipelines! :)\n",
    "\n",
    "### Model\n",
    "\n",
    "Transformer-based language models (LMs) such as BERT, RoBERTa, XLNet, etc. have\n",
    "demonstrated the effectiveness of the self-attention mechanism for computing\n",
    "rich embeddings for input text. However, the self-attention mechanism is an\n",
    "expensive operation, with a time complexity of `O(n^2)`, where `n` is the number\n",
    "of tokens in the input. Hence, there has been an effort to reduce the time\n",
    "complexity of the self-attention mechanism and improve performance without\n",
    "sacrificing the quality of results.\n",
    "\n",
    "In 2020, a paper titled\n",
    "[FNet: Mixing Tokens with Fourier Transforms](https://arxiv.org/abs/2105.03824)\n",
    "replaced the self-attention layer in BERT with a simple Fourier Transform layer\n",
    "for \"token mixing\". This resulted in comparable accuracy and a speed-up during\n",
    "training. In particular, a couple of points from the paper stand out:\n",
    "\n",
    "* The authors claim that FNet is 80% faster than BERT on GPUs and 70% faster on\n",
    "TPUs. The reason for this speed-up is two-fold: a) the Fourier Transform layer\n",
    "is unparametrized, it does not have any parameters, and b) the authors use Fast\n",
    "Fourier Transform (FFT); this reduces the time complexity from `O(n^2)`\n",
    "(in the case of self-attention) to `O(n log n)`.\n",
    "* FNet manages to achieve 92-97% of the accuracy of BERT on the GLUE benchmark."
   ]
  },
  {
   "cell_type": "markdown",
   "metadata": {
    "id": "gEFa_LdJXWBI"
   },
   "source": [
    "## Setup\n",
    "\n",
    "Before we start with the implementation, let's import all the necessary packages."
   ]
  },
  {
   "cell_type": "code",
   "execution_count": 2,
   "metadata": {
    "id": "tS6hbVm7XWBI"
   },
   "outputs": [
    {
     "name": "stderr",
     "output_type": "stream",
     "text": [
      "2023-07-06 00:37:04.333106: I tensorflow/core/util/util.cc:169] oneDNN custom operations are on. You may see slightly different numerical results due to floating-point round-off errors from different computation orders. To turn them off, set the environment variable `TF_ENABLE_ONEDNN_OPTS=0`.\n"
     ]
    }
   ],
   "source": [
    "import keras_nlp\n",
    "import tensorflow as tf\n",
    "import os\n",
    "\n",
    "from tensorflow import keras\n",
    "\n",
    "keras.utils.set_random_seed(42)"
   ]
  },
  {
   "cell_type": "markdown",
   "metadata": {
    "id": "87RBxNNWXWBJ"
   },
   "source": [
    "Let's also define our hyperparameters."
   ]
  },
  {
   "cell_type": "code",
   "execution_count": 3,
   "metadata": {
    "id": "tKJmKzfNXWBJ"
   },
   "outputs": [],
   "source": [
    "BATCH_SIZE = 64\n",
    "EPOCHS = 3\n",
    "MAX_SEQUENCE_LENGTH = 512\n",
    "VOCAB_SIZE = 15000\n",
    "\n",
    "EMBED_DIM = 128\n",
    "INTERMEDIATE_DIM = 512"
   ]
  },
  {
   "cell_type": "markdown",
   "metadata": {
    "id": "erZdeYynXWBJ"
   },
   "source": [
    "## Loading the dataset\n",
    "\n",
    "First, let's download the IMDB dataset and extract it."
   ]
  },
  {
   "cell_type": "code",
   "execution_count": 4,
   "metadata": {
    "id": "AilYCqflXWBJ"
   },
   "outputs": [
    {
     "name": "stdout",
     "output_type": "stream",
     "text": [
      "--2023-07-06 00:37:05--  http://ai.stanford.edu/~amaas/data/sentiment/aclImdb_v1.tar.gz\n",
      "Resolving ai.stanford.edu (ai.stanford.edu)... 171.64.68.10\n",
      "Connecting to ai.stanford.edu (ai.stanford.edu)|171.64.68.10|:80... connected.\n",
      "HTTP request sent, awaiting response... 200 OK\n",
      "Length: 84125825 (80M) [application/x-gzip]\n",
      "Saving to: ‘aclImdb_v1.tar.gz’\n",
      "\n",
      "aclImdb_v1.tar.gz   100%[===================>]  80.23M  2.44MB/s    in 55s     \n",
      "\n",
      "2023-07-06 00:38:00 (1.46 MB/s) - ‘aclImdb_v1.tar.gz’ saved [84125825/84125825]\n",
      "\n"
     ]
    }
   ],
   "source": [
    "!wget http://ai.stanford.edu/~amaas/data/sentiment/aclImdb_v1.tar.gz\n",
    "!tar -xzf aclImdb_v1.tar.gz"
   ]
  },
  {
   "cell_type": "markdown",
   "metadata": {
    "id": "BMMLMTSEXWBJ"
   },
   "source": [
    "Samples are present in the form of text files. Let's inspect the structure of\n",
    "the directory."
   ]
  },
  {
   "cell_type": "code",
   "execution_count": 5,
   "metadata": {
    "id": "4B82sJFcXWBK"
   },
   "outputs": [
    {
     "name": "stdout",
     "output_type": "stream",
     "text": [
      "['test', 'README', 'imdbEr.txt', 'imdb.vocab', 'train']\n",
      "['neg', 'urls_pos.txt', 'urls_unsup.txt', 'urls_neg.txt', 'labeledBow.feat', 'pos', 'unsup', 'unsupBow.feat']\n",
      "['neg', 'urls_pos.txt', 'urls_neg.txt', 'labeledBow.feat', 'pos']\n"
     ]
    }
   ],
   "source": [
    "print(os.listdir(\"./aclImdb\"))\n",
    "print(os.listdir(\"./aclImdb/train\"))\n",
    "print(os.listdir(\"./aclImdb/test\"))"
   ]
  },
  {
   "cell_type": "markdown",
   "metadata": {
    "id": "UEg51iP8XWBK"
   },
   "source": [
    "The directory contains two sub-directories: `train` and `test`. Each subdirectory\n",
    "in turn contains two folders: `pos` and `neg` for positive and negative reviews,\n",
    "respectively. Before we load the dataset, let's delete the `./aclImdb/train/unsup`\n",
    "folder since it has unlabelled samples."
   ]
  },
  {
   "cell_type": "code",
   "execution_count": 6,
   "metadata": {
    "id": "Pe12KzwmXWBK"
   },
   "outputs": [],
   "source": [
    "!rm -rf aclImdb/train/unsup"
   ]
  },
  {
   "cell_type": "markdown",
   "metadata": {
    "id": "uWa8St0jXWBK"
   },
   "source": [
    "We'll use the `keras.utils.text_dataset_from_directory` utility to generate\n",
    "our labelled `tf.data.Dataset` dataset from text files."
   ]
  },
  {
   "cell_type": "code",
   "execution_count": 7,
   "metadata": {
    "id": "pS-n_G5qXWBK"
   },
   "outputs": [
    {
     "name": "stdout",
     "output_type": "stream",
     "text": [
      "Found 25000 files belonging to 2 classes.\n",
      "Using 20000 files for training.\n"
     ]
    },
    {
     "name": "stderr",
     "output_type": "stream",
     "text": [
      "2023-07-06 00:38:02.846227: E tensorflow/stream_executor/cuda/cuda_driver.cc:271] failed call to cuInit: CUDA_ERROR_COMPAT_NOT_SUPPORTED_ON_DEVICE: forward compatibility was attempted on non supported HW\n",
      "2023-07-06 00:38:02.846253: I tensorflow/stream_executor/cuda/cuda_diagnostics.cc:169] retrieving CUDA diagnostic information for host: zlabshwa01\n",
      "2023-07-06 00:38:02.846257: I tensorflow/stream_executor/cuda/cuda_diagnostics.cc:176] hostname: zlabshwa01\n",
      "2023-07-06 00:38:02.846345: I tensorflow/stream_executor/cuda/cuda_diagnostics.cc:200] libcuda reported version is: 530.30.2\n",
      "2023-07-06 00:38:02.846360: I tensorflow/stream_executor/cuda/cuda_diagnostics.cc:204] kernel reported version is: 515.105.1\n",
      "2023-07-06 00:38:02.846363: E tensorflow/stream_executor/cuda/cuda_diagnostics.cc:313] kernel version 515.105.1 does not match DSO version 530.30.2 -- cannot find working devices in this configuration\n",
      "2023-07-06 00:38:02.846598: I tensorflow/core/platform/cpu_feature_guard.cc:193] This TensorFlow binary is optimized with oneAPI Deep Neural Network Library (oneDNN) to use the following CPU instructions in performance-critical operations:  AVX2 AVX_VNNI FMA\n",
      "To enable them in other operations, rebuild TensorFlow with the appropriate compiler flags.\n"
     ]
    },
    {
     "name": "stdout",
     "output_type": "stream",
     "text": [
      "Found 25000 files belonging to 2 classes.\n",
      "Using 5000 files for validation.\n",
      "Found 25000 files belonging to 2 classes.\n"
     ]
    }
   ],
   "source": [
    "train_ds = keras.utils.text_dataset_from_directory(\n",
    "    \"aclImdb/train\",\n",
    "    batch_size=BATCH_SIZE,\n",
    "    validation_split=0.2,\n",
    "    subset=\"training\",\n",
    "    seed=42,\n",
    ")\n",
    "val_ds = keras.utils.text_dataset_from_directory(\n",
    "    \"aclImdb/train\",\n",
    "    batch_size=BATCH_SIZE,\n",
    "    validation_split=0.2,\n",
    "    subset=\"validation\",\n",
    "    seed=42,\n",
    ")\n",
    "test_ds = keras.utils.text_dataset_from_directory(\"aclImdb/test\", batch_size=BATCH_SIZE)"
   ]
  },
  {
   "cell_type": "markdown",
   "metadata": {
    "id": "0nv7meNzXWBK"
   },
   "source": [
    "We will now convert the text to lowercase."
   ]
  },
  {
   "cell_type": "code",
   "execution_count": 8,
   "metadata": {
    "id": "u3BGzMEtXWBK"
   },
   "outputs": [],
   "source": [
    "train_ds = train_ds.map(lambda x, y: (tf.strings.lower(x), y))\n",
    "val_ds = val_ds.map(lambda x, y: (tf.strings.lower(x), y))\n",
    "test_ds = test_ds.map(lambda x, y: (tf.strings.lower(x), y))"
   ]
  },
  {
   "cell_type": "markdown",
   "metadata": {
    "id": "eL3jriwhXWBK"
   },
   "source": [
    "Let's print a few samples."
   ]
  },
  {
   "cell_type": "code",
   "execution_count": 9,
   "metadata": {
    "id": "mR41amElXWBL"
   },
   "outputs": [
    {
     "name": "stdout",
     "output_type": "stream",
     "text": [
      "b'an illegal immigrant resists the social support system causing dire consequences for many. well filmed and acted even though the story is a bit forced, yet the slow pacing really sets off the conclusion. the feeling of being lost in the big city is effectively conveyed. the little person lost in the big society is something to which we can all relate, but i cannot endorse going out of your way to see this movie.'\n",
      "0\n",
      "b\"to get in touch with the beauty of this film pay close attention to the sound track, not only the music, but the way all sounds help to weave the imagery. how beautifully the opening scene leading to the expulsion of gino establishes the theme of moral ambiguity! note the way music introduces the characters as we are led inside giovanna's marriage. don't expect to find much here of the political life of italy in 1943. that's not what this is about. on the other hand, if you are susceptible to the music of images and sounds, you will be led into a word that reaches beyond neo-realism. by the end of the film we there are moments antonioni-like landscape that has more to do with the inner life of the characters than with real places. this is one of my favorite visconti films.\"\n",
      "1\n",
      "b'\"hollywood hotel\" has relationships to many films like \"ella cinders\" and \"merton of the movies\" about someone winning a contest including a contract to make films in hollywood, only to find the road to stardom either paved with pitfalls or non-existent. in fact, as i was watching it tonight, on turner classic movies, i was considering whether or not the authors of the later musical classic \"singing in the rain\" may have taken some of their ideas from \"hollywood hotel\", most notably a temperamental leading lady star in a movie studio and a conclusion concerning one person singing a film score while another person got the credit by mouthing along on screen.<br /><br />\"hollywood hotel\" is a fascinating example of movie making in the 1930s. among the supporting players is louella parsons, playing herself (and, despite some negative comments i\\'ve seen, she has a very ingratiating personality on screen and a natural command of her lines). she is not the only real person in the script. make-up specialist perc westmore briefly appears as himself to try to make one character resemble another.<br /><br />this film also was one of the first in the career of young mr. ronald reagan, playing a radio interviewer at a movie premiere. reagan actually does quite nicely in his brief scenes - particularly when he realizes that nobody dick powell is about to take over the microphone when it should be used with more important people.<br /><br />dick powell has won a hollywood contract in a contest, and is leaving his job as a saxophonist in benny goodman\\'s band. the beginning of this film, by the way, is quite impressive, as the band drives in a parade of trucks to give a proper goodbye to powell. they end up singing \"hooray for hollywood\". the interesting thing about this wonderful number is that a lyric has been left out on purpose. throughout the johnny mercer lyrics are references to such hollywood as max factor the make-up king, rin tin tin, and even a hint of tarzan. but the original song lyric referred to looking like tyrone power. obviously jack warner and his brothers were not going to advertise the leading man of 20th century fox, and the name donald duck was substituted. in any event the number showed the singers and instrumentalists of goodman\\'s orchestra at their best. so did a later five minute section of the film, where the band is rehearsing.<br /><br />powell leaves the band and his girl friend (frances langford) and goes to hollywood, only to find he is a contract player (most likely for musicals involving saxophonists). he is met by allen joslyn, the publicist of the studio (the owner is grant mitchell). joslyn is not a bad fellow, but he is busy and he tends to slough off people unless it is necessary to speak to them. he parks powell at a room at the hollywood hotel, which is also where the studio\\'s temperamental star (lola lane) lives with her father (hugh herbert), her sister (mabel todd), and her sensible if cynical assistant (glenda farrell). lane is like jean hagen in \"singing in the rain\", except her speaking voice is good. her version of \"dan lockwood\" is one \"alexander dupre\" (alan mowbray, scene stealing with ease several times). the only difference is that mowbray is not a nice guy like gene kelly was, and lane (when not wrapped up in her ego) is fully aware of it. having a fit on being by-passed for an out-of-the ordinary role she wanted, she refuses to attend the premiere of her latest film. joslyn finds a double for her (lola\\'s real life sister rosemary lane), and rosemary is made up to play the star at the premiere and the follow-up party. but she attends with powell (joslyn wanting someone who doesn\\'t know the real lola). this leads to powell knocking down mowbray when the latter makes a pest of himself. but otherwise the evening is a success, and when the two are together they start finding each other attractive.<br /><br />the complications deal with lola coming back and slapping powell in the face, after mowbray complains he was attacked by powell (\"and his gang of hoodlums\"). powell\\'s contract is bought out. working with photographer turned agent ted healey (actually not too bad in this film - he even tries to do a jolson imitation at one point), the two try to find work, ending up as employees at a hamburger stand run by bad tempered edgar kennedy (the number of broken dishes and singing customers in the restaurant give edgar plenty of time to do his slow burns with gusto). eventually powell gets a \"break\" by being hired to be dupre\\'s singing voice in a rip-off of \"gone with the wind\". this leads to the final section of the film, when rosemary lane, herbert, and healey help give powell his chance to show it\\'s his voice, not mowbrays.<br /><br />it\\'s quite a cute and appealing film even now. the worst aspects are due to it\\'s time. several jokes concerning african-americans are no longer tolerable (while trying to photograph powell as he arrives in hollywood, healey accidentally photographs a porter, and mentions to joslyn to watch out, powell photographs too darkly - get the point?). also a bit with curt bois as a fashion designer for lola lane, who is (shall we say) too high strung is not very tolerable either. herbert\\'s \"hoo-hoo\"ing is a bit much (too much of the time) but it was really popular in 1937. and an incident where healey nearly gets into a brawl at the premiere (this was one of his last films) reminds people of the tragic, still mysterious end of the comedian in december 1937. but most of the film is quite good, and won\\'t disappoint the viewer in 2008.'\n",
      "1\n"
     ]
    }
   ],
   "source": [
    "for text_batch, label_batch in train_ds.take(1):\n",
    "    for i in range(3):\n",
    "        print(text_batch.numpy()[i])\n",
    "        print(label_batch.numpy()[i])\n"
   ]
  },
  {
   "cell_type": "markdown",
   "metadata": {
    "id": "RcVelWWLXWBL"
   },
   "source": [
    "### Tokenizing the data\n",
    "\n",
    "We'll be using the `keras_nlp.tokenizers.WordPieceTokenizer` layer to tokenize\n",
    "the text. `keras_nlp.tokenizers.WordPieceTokenizer` takes a WordPiece vocabulary\n",
    "and has functions for tokenizing the text, and detokenizing sequences of tokens.\n",
    "\n",
    "Before we define the tokenizer, we first need to train it on the dataset\n",
    "we have. The WordPiece tokenization algorithm is a subword tokenization algorithm;\n",
    "training it on a corpus gives us a vocabulary of subwords. A subword tokenizer\n",
    "is a compromise between word tokenizers (word tokenizers need very large\n",
    "vocabularies for good coverage of input words), and character tokenizers\n",
    "(characters don't really encode meaning like words do). Luckily, KerasNLP\n",
    "makes it very simple to train WordPiece on a corpus with the\n",
    "`keras_nlp.tokenizers.compute_word_piece_vocabulary` utility.\n",
    "\n",
    "Note: The official implementation of FNet uses the SentencePiece Tokenizer."
   ]
  },
  {
   "cell_type": "code",
   "execution_count": 10,
   "metadata": {
    "id": "kddjOWOKXWBL"
   },
   "outputs": [],
   "source": [
    "\n",
    "def train_word_piece(ds, vocab_size, reserved_tokens):\n",
    "    word_piece_ds = ds.unbatch().map(lambda x, y: x)\n",
    "    vocab = keras_nlp.tokenizers.compute_word_piece_vocabulary(\n",
    "        word_piece_ds.batch(1000).prefetch(2),\n",
    "        vocabulary_size=vocab_size,\n",
    "        reserved_tokens=reserved_tokens,\n",
    "    )\n",
    "    return vocab\n"
   ]
  },
  {
   "cell_type": "markdown",
   "metadata": {
    "id": "L0oU7PdsXWBL"
   },
   "source": [
    "Every vocabulary has a few special, reserved tokens. We have two such tokens:\n",
    "\n",
    "- `\"[PAD]\"` - Padding token. Padding tokens are appended to the input sequence length\n",
    "when the input sequence length is shorter than the maximum sequence length.\n",
    "- `\"[UNK]\"` - Unknown token."
   ]
  },
  {
   "cell_type": "code",
   "execution_count": 11,
   "metadata": {
    "id": "XhUUptYfXWBL"
   },
   "outputs": [],
   "source": [
    "reserved_tokens = [\"[PAD]\", \"[UNK]\"]\n",
    "train_sentences = [element[0] for element in train_ds]\n",
    "vocab = train_word_piece(train_ds, VOCAB_SIZE, reserved_tokens)"
   ]
  },
  {
   "cell_type": "markdown",
   "metadata": {
    "id": "LLd-K7pnXWBL"
   },
   "source": [
    "Let's see some tokens!"
   ]
  },
  {
   "cell_type": "code",
   "execution_count": 12,
   "metadata": {
    "id": "UOWZyEQpXWBL"
   },
   "outputs": [
    {
     "name": "stdout",
     "output_type": "stream",
     "text": [
      "Tokens:  ['à', 'á', 'â', 'ã', 'ä', 'å', 'æ', 'ç', 'è', 'é']\n"
     ]
    }
   ],
   "source": [
    "print(\"Tokens: \", vocab[100:110])"
   ]
  },
  {
   "cell_type": "markdown",
   "metadata": {
    "id": "PYoAteoqXWBL"
   },
   "source": [
    "Now, let's define the tokenizer. We will configure the tokenizer with the\n",
    "the vocabularies trained above. We will define a maximum sequence length so that\n",
    "all sequences are padded to the same length, if the length of the sequence is\n",
    "less than the specified sequence length. Otherwise, the sequence is truncated."
   ]
  },
  {
   "cell_type": "code",
   "execution_count": 13,
   "metadata": {
    "id": "08YHew0XXWBL"
   },
   "outputs": [],
   "source": [
    "tokenizer = keras_nlp.tokenizers.WordPieceTokenizer(\n",
    "    vocabulary=vocab,\n",
    "    lowercase=False,\n",
    "    sequence_length=MAX_SEQUENCE_LENGTH,\n",
    ")"
   ]
  },
  {
   "cell_type": "markdown",
   "metadata": {
    "id": "dp3e8vZNXWBL"
   },
   "source": [
    "Let's try and tokenize a sample from our dataset! To verify whether the text has\n",
    "been tokenized correctly, we can also detokenize the list of tokens back to the\n",
    "original text."
   ]
  },
  {
   "cell_type": "code",
   "execution_count": 14,
   "metadata": {
    "id": "aDym_3yOXWBL"
   },
   "outputs": [
    {
     "name": "stdout",
     "output_type": "stream",
     "text": [
      "Sentence:  tf.Tensor(b'this picture seemed way to slanted, it\\'s almost as bad as the drum beating of the right wing kooks who say everything is rosy in iraq. it paints a picture so unredeemable that i can\\'t help but wonder about it\\'s legitimacy and bias. also it seemed to meander from being about the murderous carnage of our troops to the lack of health care in the states for ptsd. to me the subject matter seemed confused, it only cared about portraying the military in a bad light, as a) an organzation that uses mind control to turn ordinary peace loving civilians into baby killers and b) an organization that once having used and spent the bodies of it\\'s soldiers then discards them to the despotic bureacracy of the v.a. this is a legitimate argument, but felt off topic for me, almost like a movie in and of itself. i felt that \"the war tapes\" and \"blood of my brother\" were much more fair and let the viewer draw some conclusions of their own rather than be beaten over the head with the film makers viewpoint. f-', shape=(), dtype=string)\n",
      "Tokens:  tf.Tensor(\n",
      "[  145   576   608   228   140    58 13343    13   143     8    58   360\n",
      "   148   209   148   137  9759  3681   139   137   344  3276    50 12092\n",
      "   164   169   269   424   141    57  2093   292   144  5115    15   143\n",
      "  7890    40   576   170  2970  2459  2412 10452   146    48   184     8\n",
      "    59   478   152   733   177   143     8    58  4060  8069 13355   138\n",
      "  8557    15   214   143   608   140   526  2121   171   247   177   137\n",
      "  4726  7336   139   395  4985   140   137   711   139  3959   597   144\n",
      "   137  1844   149    55  1175   288    15   140   203   137  1009   686\n",
      "   608  1701    13   143   197  3979   177  2514   137  1442   144    40\n",
      "   209   776    13   148    40    10   168 14198 13928   146  1260   470\n",
      "  1300   140   604  2118  2836  1873  9991   217  1006  2318   138    41\n",
      "    10   168  8469   146   422   400   480   138  1213   137  2541   139\n",
      "   143     8    58  1487   227  4319 10720   229   140   137  6310  8532\n",
      "   862    41  2215  6547 10768   139   137    61    15    40    15   145\n",
      "   141    40  7738  4120    13   152   569   260  3297   149   203    13\n",
      "   360   172    40   150   144   138   139   561    15    48   569   146\n",
      "     3   137   466  6192     3   138     3   665   139   193   707     3\n",
      "   204   207   185  1447   138   417   137   643  2731   182  8421   139\n",
      "   199   342   385   206   161  3920   253   137   566   151   137   153\n",
      "  1340  8845    15    45    14     0     0     0     0     0     0     0\n",
      "     0     0     0     0     0     0     0     0     0     0     0     0\n",
      "     0     0     0     0     0     0     0     0     0     0     0     0\n",
      "     0     0     0     0     0     0     0     0     0     0     0     0\n",
      "     0     0     0     0     0     0     0     0     0     0     0     0\n",
      "     0     0     0     0     0     0     0     0     0     0     0     0\n",
      "     0     0     0     0     0     0     0     0     0     0     0     0\n",
      "     0     0     0     0     0     0     0     0     0     0     0     0\n",
      "     0     0     0     0     0     0     0     0     0     0     0     0\n",
      "     0     0     0     0     0     0     0     0     0     0     0     0\n",
      "     0     0     0     0     0     0     0     0     0     0     0     0\n",
      "     0     0     0     0     0     0     0     0     0     0     0     0\n",
      "     0     0     0     0     0     0     0     0     0     0     0     0\n",
      "     0     0     0     0     0     0     0     0     0     0     0     0\n",
      "     0     0     0     0     0     0     0     0     0     0     0     0\n",
      "     0     0     0     0     0     0     0     0     0     0     0     0\n",
      "     0     0     0     0     0     0     0     0     0     0     0     0\n",
      "     0     0     0     0     0     0     0     0     0     0     0     0\n",
      "     0     0     0     0     0     0     0     0     0     0     0     0\n",
      "     0     0     0     0     0     0     0     0     0     0     0     0\n",
      "     0     0     0     0     0     0     0     0     0     0     0     0\n",
      "     0     0     0     0     0     0     0     0     0     0     0     0\n",
      "     0     0     0     0     0     0     0     0     0     0     0     0\n",
      "     0     0     0     0     0     0     0     0], shape=(512,), dtype=int32)\n",
      "Recovered text after detokenizing:  tf.Tensor(b'this picture seemed way to slanted , it \\' s almost as bad as the drum beating of the right wing kooks who say everything is rosy in iraq . it paints a picture so unredeemable that i can \\' t help but wonder about it \\' s legitimacy and bias . also it seemed to meander from being about the murderous carnage of our troops to the lack of health care in the states for ptsd . to me the subject matter seemed confused , it only cared about portraying the military in a bad light , as a ) an organzation that uses mind control to turn ordinary peace loving civilians into baby killers and b ) an organization that once having used and spent the bodies of it \\' s soldiers then discards them to the despotic bureacracy of the v . a . this is a legitimate argument , but felt off topic for me , almost like a movie in and of itself . i felt that \" the war tapes \" and \" blood of my brother \" were much more fair and let the viewer draw some conclusions of their own rather than be beaten over the head with the film makers viewpoint . f - [PAD] [PAD] [PAD] [PAD] [PAD] [PAD] [PAD] [PAD] [PAD] [PAD] [PAD] [PAD] [PAD] [PAD] [PAD] [PAD] [PAD] [PAD] [PAD] [PAD] [PAD] [PAD] [PAD] [PAD] [PAD] [PAD] [PAD] [PAD] [PAD] [PAD] [PAD] [PAD] [PAD] [PAD] [PAD] [PAD] [PAD] [PAD] [PAD] [PAD] [PAD] [PAD] [PAD] [PAD] [PAD] [PAD] [PAD] [PAD] [PAD] [PAD] [PAD] [PAD] [PAD] [PAD] [PAD] [PAD] [PAD] [PAD] [PAD] [PAD] [PAD] [PAD] [PAD] [PAD] [PAD] [PAD] [PAD] [PAD] [PAD] [PAD] [PAD] [PAD] [PAD] [PAD] [PAD] [PAD] [PAD] [PAD] [PAD] [PAD] [PAD] [PAD] [PAD] [PAD] [PAD] [PAD] [PAD] [PAD] [PAD] [PAD] [PAD] [PAD] [PAD] [PAD] [PAD] [PAD] [PAD] [PAD] [PAD] [PAD] [PAD] [PAD] [PAD] [PAD] [PAD] [PAD] [PAD] [PAD] [PAD] [PAD] [PAD] [PAD] [PAD] [PAD] [PAD] [PAD] [PAD] [PAD] [PAD] [PAD] [PAD] [PAD] [PAD] [PAD] [PAD] [PAD] [PAD] [PAD] [PAD] [PAD] [PAD] [PAD] [PAD] [PAD] [PAD] [PAD] [PAD] [PAD] [PAD] [PAD] [PAD] [PAD] [PAD] [PAD] [PAD] [PAD] [PAD] [PAD] [PAD] [PAD] [PAD] [PAD] [PAD] [PAD] [PAD] [PAD] [PAD] [PAD] [PAD] [PAD] [PAD] [PAD] [PAD] [PAD] [PAD] [PAD] [PAD] [PAD] [PAD] [PAD] [PAD] [PAD] [PAD] [PAD] [PAD] [PAD] [PAD] [PAD] [PAD] [PAD] [PAD] [PAD] [PAD] [PAD] [PAD] [PAD] [PAD] [PAD] [PAD] [PAD] [PAD] [PAD] [PAD] [PAD] [PAD] [PAD] [PAD] [PAD] [PAD] [PAD] [PAD] [PAD] [PAD] [PAD] [PAD] [PAD] [PAD] [PAD] [PAD] [PAD] [PAD] [PAD] [PAD] [PAD] [PAD] [PAD] [PAD] [PAD] [PAD] [PAD] [PAD] [PAD] [PAD] [PAD] [PAD] [PAD] [PAD] [PAD] [PAD] [PAD] [PAD] [PAD] [PAD] [PAD] [PAD] [PAD] [PAD] [PAD] [PAD] [PAD] [PAD] [PAD] [PAD] [PAD] [PAD] [PAD] [PAD] [PAD] [PAD] [PAD] [PAD] [PAD] [PAD] [PAD] [PAD] [PAD] [PAD] [PAD] [PAD] [PAD] [PAD] [PAD] [PAD] [PAD] [PAD] [PAD] [PAD] [PAD] [PAD] [PAD] [PAD] [PAD] [PAD] [PAD] [PAD] [PAD] [PAD] [PAD] [PAD]', shape=(), dtype=string)\n"
     ]
    }
   ],
   "source": [
    "input_sentence_ex = train_ds.take(1).get_single_element()[0][0]\n",
    "input_tokens_ex = tokenizer(input_sentence_ex)\n",
    "\n",
    "print(\"Sentence: \", input_sentence_ex)\n",
    "print(\"Tokens: \", input_tokens_ex)\n",
    "print(\"Recovered text after detokenizing: \", tokenizer.detokenize(input_tokens_ex))\n"
   ]
  },
  {
   "cell_type": "markdown",
   "metadata": {
    "id": "vewyRIawXWBL"
   },
   "source": [
    "## Formatting the dataset\n",
    "\n",
    "Next, we'll format our datasets in the form that will be fed to the models. We\n",
    "need to tokenize the text."
   ]
  },
  {
   "cell_type": "code",
   "execution_count": 15,
   "metadata": {
    "id": "GrNhsXnIXWBL"
   },
   "outputs": [],
   "source": [
    "\n",
    "def format_dataset(sentence, label):\n",
    "    sentence = tokenizer(sentence)\n",
    "    return ({\"input_ids\": sentence}, label)\n",
    "\n",
    "\n",
    "def make_dataset(dataset):\n",
    "    dataset = dataset.map(format_dataset, num_parallel_calls=tf.data.AUTOTUNE)\n",
    "    return dataset.shuffle(512).prefetch(16).cache()\n",
    "\n",
    "\n",
    "train_ds = make_dataset(train_ds)\n",
    "val_ds = make_dataset(val_ds)\n",
    "test_ds = make_dataset(test_ds)"
   ]
  },
  {
   "cell_type": "markdown",
   "metadata": {
    "id": "W1eZw02kXWBM"
   },
   "source": [
    "## Building the model\n",
    "\n",
    "Now, let's move on to the exciting part - defining our model!\n",
    "We first need an embedding layer, i.e., a layer that maps every token in the input\n",
    "sequence to a vector. This embedding layer can be initialised randomly. We also\n",
    "need a positional embedding layer which encodes the word order in the sequence.\n",
    "The convention is to add, i.e., sum, these two embeddings. KerasNLP has a\n",
    "`keras_nlp.layers.TokenAndPositionEmbedding ` layer which does all of the above\n",
    "steps for us.\n",
    "\n",
    "Our FNet classification model consists of three `keras_nlp.layers.FNetEncoder`\n",
    "layers with a `keras.layers.Dense` layer on top.\n",
    "\n",
    "Note: For FNet, masking the padding tokens has a minimal effect on results. In the\n",
    "official implementation, the padding tokens are not masked."
   ]
  },
  {
   "cell_type": "code",
   "execution_count": 16,
   "metadata": {
    "id": "F7RMDKWlXWBM"
   },
   "outputs": [],
   "source": [
    "input_ids = keras.Input(shape=(None,), dtype=\"int64\", name=\"input_ids\")\n",
    "\n",
    "x = keras_nlp.layers.TokenAndPositionEmbedding(\n",
    "    vocabulary_size=VOCAB_SIZE,\n",
    "    sequence_length=MAX_SEQUENCE_LENGTH,\n",
    "    embedding_dim=EMBED_DIM,\n",
    "    mask_zero=True,\n",
    ")(input_ids)\n",
    "\n",
    "x = keras_nlp.layers.FNetEncoder(intermediate_dim=INTERMEDIATE_DIM)(inputs=x)\n",
    "x = keras_nlp.layers.FNetEncoder(intermediate_dim=INTERMEDIATE_DIM)(inputs=x)\n",
    "x = keras_nlp.layers.FNetEncoder(intermediate_dim=INTERMEDIATE_DIM)(inputs=x)\n",
    "\n",
    "\n",
    "x = keras.layers.GlobalAveragePooling1D()(x)\n",
    "x = keras.layers.Dropout(0.1)(x)\n",
    "outputs = keras.layers.Dense(1, activation=\"sigmoid\")(x)\n",
    "\n",
    "fnet_classifier = keras.Model(input_ids, outputs, name=\"fnet_classifier\")"
   ]
  },
  {
   "cell_type": "markdown",
   "metadata": {
    "id": "7qqHP8q0XWBM"
   },
   "source": [
    "## Training our model\n",
    "\n",
    "We'll use accuracy to monitor training progress on the validation data. Let's\n",
    "train our model for 3 epochs."
   ]
  },
  {
   "cell_type": "code",
   "execution_count": 17,
   "metadata": {
    "id": "NunK7FpvXWBM"
   },
   "outputs": [
    {
     "name": "stdout",
     "output_type": "stream",
     "text": [
      "Model: \"fnet_classifier\"\n",
      "_________________________________________________________________\n",
      " Layer (type)                Output Shape              Param #   \n",
      "=================================================================\n",
      " input_ids (InputLayer)      [(None, None)]            0         \n",
      "                                                                 \n",
      " token_and_position_embeddin  (None, None, 128)        1985536   \n",
      " g (TokenAndPositionEmbeddin                                     \n",
      " g)                                                              \n",
      "                                                                 \n",
      " f_net_encoder (FNetEncoder)  (None, None, 128)        132224    \n",
      "                                                                 \n",
      " f_net_encoder_1 (FNetEncode  (None, None, 128)        132224    \n",
      " r)                                                              \n",
      "                                                                 \n",
      " f_net_encoder_2 (FNetEncode  (None, None, 128)        132224    \n",
      " r)                                                              \n",
      "                                                                 \n",
      " global_average_pooling1d (G  (None, 128)              0         \n",
      " lobalAveragePooling1D)                                          \n",
      "                                                                 \n",
      " dropout (Dropout)           (None, 128)               0         \n",
      "                                                                 \n",
      " dense (Dense)               (None, 1)                 129       \n",
      "                                                                 \n",
      "=================================================================\n",
      "Total params: 2,382,337\n",
      "Trainable params: 2,382,337\n",
      "Non-trainable params: 0\n",
      "_________________________________________________________________\n",
      "Epoch 1/3\n",
      "313/313 [==============================] - 204s 649ms/step - loss: 0.5993 - accuracy: 0.6337 - val_loss: 0.3638 - val_accuracy: 0.8446\n",
      "Epoch 2/3\n",
      "313/313 [==============================] - 201s 641ms/step - loss: 0.3199 - accuracy: 0.8626 - val_loss: 0.3191 - val_accuracy: 0.8680\n",
      "Epoch 3/3\n",
      "313/313 [==============================] - 197s 630ms/step - loss: 0.2051 - accuracy: 0.9203 - val_loss: 0.3435 - val_accuracy: 0.8658\n"
     ]
    },
    {
     "data": {
      "text/plain": [
       "<keras.callbacks.History at 0x7fbe61ae0f70>"
      ]
     },
     "execution_count": 17,
     "metadata": {},
     "output_type": "execute_result"
    }
   ],
   "source": [
    "fnet_classifier.summary()\n",
    "fnet_classifier.compile(\n",
    "    optimizer=keras.optimizers.Adam(learning_rate=0.001),\n",
    "    loss=\"binary_crossentropy\",\n",
    "    metrics=[\"accuracy\"],\n",
    ")\n",
    "fnet_classifier.fit(train_ds, epochs=EPOCHS, validation_data=val_ds)"
   ]
  },
  {
   "cell_type": "markdown",
   "metadata": {
    "id": "O45NUp5jXWBM"
   },
   "source": [
    "We obtain a train accuracy of around 92% and a validation accuracy of around\n",
    "85%. Moreover, for 3 epochs, it takes around 86 seconds to train the model\n",
    "(on Colab with a 16 GB Tesla T4 GPU).\n",
    "\n",
    "Let's calculate the test accuracy."
   ]
  },
  {
   "cell_type": "code",
   "execution_count": 18,
   "metadata": {
    "id": "3U3Rmx1ZXWBM"
   },
   "outputs": [
    {
     "name": "stdout",
     "output_type": "stream",
     "text": [
      "391/391 [==============================] - 99s 250ms/step - loss: 0.3781 - accuracy: 0.8463\n"
     ]
    },
    {
     "data": {
      "text/plain": [
       "[0.3780996799468994, 0.8463199734687805]"
      ]
     },
     "execution_count": 18,
     "metadata": {},
     "output_type": "execute_result"
    }
   ],
   "source": [
    "fnet_classifier.evaluate(test_ds, batch_size=BATCH_SIZE)\n"
   ]
  },
  {
   "cell_type": "markdown",
   "metadata": {
    "id": "UHzeP8aOXWBM"
   },
   "source": [
    "## Comparison with Transformer model\n",
    "\n",
    "Let's compare our FNet Classifier model with a Transformer Classifier model. We\n",
    "keep all the parameters/hyperparameters the same. For example, we use three\n",
    "`TransformerEncoder` layers.\n",
    "\n",
    "We set the number of heads to 2."
   ]
  },
  {
   "cell_type": "code",
   "execution_count": 19,
   "metadata": {
    "id": "f0gcpOaHXWBM"
   },
   "outputs": [
    {
     "name": "stdout",
     "output_type": "stream",
     "text": [
      "Model: \"transformer_classifier\"\n",
      "_________________________________________________________________\n",
      " Layer (type)                Output Shape              Param #   \n",
      "=================================================================\n",
      " input_ids (InputLayer)      [(None, None)]            0         \n",
      "                                                                 \n",
      " token_and_position_embeddin  (None, None, 128)        1985536   \n",
      " g_1 (TokenAndPositionEmbedd                                     \n",
      " ing)                                                            \n",
      "                                                                 \n",
      " transformer_encoder (Transf  (None, None, 128)        198272    \n",
      " ormerEncoder)                                                   \n",
      "                                                                 \n",
      " transformer_encoder_1 (Tran  (None, None, 128)        198272    \n",
      " sformerEncoder)                                                 \n",
      "                                                                 \n",
      " transformer_encoder_2 (Tran  (None, None, 128)        198272    \n",
      " sformerEncoder)                                                 \n",
      "                                                                 \n",
      " global_average_pooling1d_1   (None, 128)              0         \n",
      " (GlobalAveragePooling1D)                                        \n",
      "                                                                 \n",
      " dropout_1 (Dropout)         (None, 128)               0         \n",
      "                                                                 \n",
      " dense_1 (Dense)             (None, 1)                 129       \n",
      "                                                                 \n",
      "=================================================================\n",
      "Total params: 2,580,481\n",
      "Trainable params: 2,580,481\n",
      "Non-trainable params: 0\n",
      "_________________________________________________________________\n",
      "Epoch 1/3\n",
      "313/313 [==============================] - 193s 613ms/step - loss: 0.4585 - accuracy: 0.7571 - val_loss: 0.3114 - val_accuracy: 0.8670\n",
      "Epoch 2/3\n",
      "313/313 [==============================] - 191s 612ms/step - loss: 0.2093 - accuracy: 0.9204 - val_loss: 0.3103 - val_accuracy: 0.8796\n",
      "Epoch 3/3\n",
      "313/313 [==============================] - 191s 612ms/step - loss: 0.1603 - accuracy: 0.9395 - val_loss: 0.3752 - val_accuracy: 0.8786\n"
     ]
    },
    {
     "data": {
      "text/plain": [
       "<keras.callbacks.History at 0x7fbd5a90ec80>"
      ]
     },
     "execution_count": 19,
     "metadata": {},
     "output_type": "execute_result"
    }
   ],
   "source": [
    "NUM_HEADS = 2\n",
    "input_ids = keras.Input(shape=(None,), dtype=\"int64\", name=\"input_ids\")\n",
    "\n",
    "\n",
    "x = keras_nlp.layers.TokenAndPositionEmbedding(\n",
    "    vocabulary_size=VOCAB_SIZE,\n",
    "    sequence_length=MAX_SEQUENCE_LENGTH,\n",
    "    embedding_dim=EMBED_DIM,\n",
    "    mask_zero=True,\n",
    ")(input_ids)\n",
    "\n",
    "x = keras_nlp.layers.TransformerEncoder(\n",
    "    intermediate_dim=INTERMEDIATE_DIM, num_heads=NUM_HEADS\n",
    ")(inputs=x)\n",
    "x = keras_nlp.layers.TransformerEncoder(\n",
    "    intermediate_dim=INTERMEDIATE_DIM, num_heads=NUM_HEADS\n",
    ")(inputs=x)\n",
    "x = keras_nlp.layers.TransformerEncoder(\n",
    "    intermediate_dim=INTERMEDIATE_DIM, num_heads=NUM_HEADS\n",
    ")(inputs=x)\n",
    "\n",
    "\n",
    "x = keras.layers.GlobalAveragePooling1D()(x)\n",
    "x = keras.layers.Dropout(0.1)(x)\n",
    "outputs = keras.layers.Dense(1, activation=\"sigmoid\")(x)\n",
    "\n",
    "transformer_classifier = keras.Model(input_ids, outputs, name=\"transformer_classifier\")\n",
    "\n",
    "\n",
    "transformer_classifier.summary()\n",
    "transformer_classifier.compile(\n",
    "    optimizer=keras.optimizers.Adam(learning_rate=0.001),\n",
    "    loss=\"binary_crossentropy\",\n",
    "    metrics=[\"accuracy\"],\n",
    ")\n",
    "transformer_classifier.fit(train_ds, epochs=EPOCHS, validation_data=val_ds)"
   ]
  },
  {
   "cell_type": "markdown",
   "metadata": {
    "id": "D5YQTaQTXWBM"
   },
   "source": [
    "We obtain a train accuracy of around 94% and a validation accuracy of around\n",
    "86.5%. It takes around 146 seconds to train the model (on Colab with a 16 GB Tesla\n",
    "T4 GPU).\n",
    "\n",
    "Let's calculate the test accuracy."
   ]
  },
  {
   "cell_type": "code",
   "execution_count": 20,
   "metadata": {
    "id": "1BI5LxwhXWBP"
   },
   "outputs": [
    {
     "name": "stdout",
     "output_type": "stream",
     "text": [
      "391/391 [==============================] - 91s 232ms/step - loss: 0.4569 - accuracy: 0.8498\n"
     ]
    },
    {
     "data": {
      "text/plain": [
       "[0.4568912088871002, 0.8497999906539917]"
      ]
     },
     "execution_count": 20,
     "metadata": {},
     "output_type": "execute_result"
    }
   ],
   "source": [
    "transformer_classifier.evaluate(test_ds, batch_size=BATCH_SIZE)"
   ]
  },
  {
   "cell_type": "markdown",
   "metadata": {
    "id": "zF_L3LMZXWBP"
   },
   "source": [
    "Let's make a table and compare the two models. We can see that FNet\n",
    "significantly speeds up our run time (1.7x), with only a small sacrifice in\n",
    "overall accuracy (drop of 0.75%).\n",
    "\n",
    "|                         | **FNet Classifier** | **Transformer Classifier** |\n",
    "|:-----------------------:|:-------------------:|:--------------------------:|\n",
    "|    **Training Time**    |      86 seconds     |         146 seconds        |\n",
    "|    **Train Accuracy**   |        92.34%       |           93.85%           |\n",
    "| **Validation Accuracy** |        85.21%       |           86.42%           |\n",
    "|    **Test Accuracy**    |        83.94%       |           84.69%           |\n",
    "|       **#Params**       |      2,321,921      |          2,520,065         |"
   ]
  }
 ],
 "metadata": {
  "accelerator": "GPU",
  "colab": {
   "name": "fnet_classification_with_keras_nlp",
   "provenance": [],
   "toc_visible": true
  },
  "kernelspec": {
   "display_name": "Python 3 (ipykernel)",
   "language": "python",
   "name": "python3"
  },
  "language_info": {
   "codemirror_mode": {
    "name": "ipython",
    "version": 3
   },
   "file_extension": ".py",
   "mimetype": "text/x-python",
   "name": "python",
   "nbconvert_exporter": "python",
   "pygments_lexer": "ipython3",
   "version": "3.10.9"
  }
 },
 "nbformat": 4,
 "nbformat_minor": 1
}

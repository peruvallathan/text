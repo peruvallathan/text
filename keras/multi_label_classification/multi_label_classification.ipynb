{
 "cells": [
  {
   "cell_type": "markdown",
   "metadata": {
    "id": "bdSRtNfPXYa8"
   },
   "source": [
    "# Large-scale multi-label text classification\n",
    "\n",
    "**Author:** [Sayak Paul](https://twitter.com/RisingSayak), [Soumik Rakshit](https://github.com/soumik12345)<br>\n",
    "**Date created:** 2020/09/25<br>\n",
    "**Last modified:** 2020/12/23<br>\n",
    "**Description:** Implementing a large-scale multi-label text classification model."
   ]
  },
  {
   "cell_type": "markdown",
   "metadata": {
    "id": "7FxzuYhhXYa_"
   },
   "source": [
    "## Introduction\n",
    "\n",
    "In this example, we will build a multi-label text classifier to predict the subject areas\n",
    "of arXiv papers from their abstract bodies. This type of classifier can be useful for\n",
    "conference submission portals like [OpenReview](https://openreview.net/). Given a paper\n",
    "abstract, the portal could provide suggestions for which areas the paper would\n",
    "best belong to.\n",
    "\n",
    "The dataset was collected using the\n",
    "[`arXiv` Python library](https://github.com/lukasschwab/arxiv.py)\n",
    "that provides a wrapper around the\n",
    "[original arXiv API](http://arxiv.org/help/api/index).\n",
    "To learn more about the data collection process, please refer to\n",
    "[this notebook](https://github.com/soumik12345/multi-label-text-classification/blob/master/arxiv_scrape.ipynb).\n",
    "Additionally, you can also find the dataset on\n",
    "[Kaggle](https://www.kaggle.com/spsayakpaul/arxiv-paper-abstracts)."
   ]
  },
  {
   "cell_type": "markdown",
   "metadata": {
    "id": "wq6TfbZJXYa_"
   },
   "source": [
    "## Imports"
   ]
  },
  {
   "cell_type": "code",
   "execution_count": 42,
   "metadata": {
    "id": "Qq5nbnXSXYbA"
   },
   "outputs": [],
   "source": [
    "from tensorflow.keras import layers\n",
    "from tensorflow import keras\n",
    "import tensorflow as tf\n",
    "\n",
    "from sklearn.model_selection import train_test_split\n",
    "from ast import literal_eval\n",
    "\n",
    "import matplotlib.pyplot as plt\n",
    "import pandas as pd\n",
    "import numpy as np"
   ]
  },
  {
   "cell_type": "markdown",
   "metadata": {
    "id": "VfScZ8JzXYbA"
   },
   "source": [
    "## Perform exploratory data analysis\n",
    "\n",
    "In this section, we first load the dataset into a `pandas` dataframe and then perform\n",
    "some basic exploratory data analysis (EDA)."
   ]
  },
  {
   "cell_type": "code",
   "execution_count": 43,
   "metadata": {
    "id": "xcZOMR33XYbB"
   },
   "outputs": [
    {
     "data": {
      "text/html": [
       "<div>\n",
       "<style scoped>\n",
       "    .dataframe tbody tr th:only-of-type {\n",
       "        vertical-align: middle;\n",
       "    }\n",
       "\n",
       "    .dataframe tbody tr th {\n",
       "        vertical-align: top;\n",
       "    }\n",
       "\n",
       "    .dataframe thead th {\n",
       "        text-align: right;\n",
       "    }\n",
       "</style>\n",
       "<table border=\"1\" class=\"dataframe\">\n",
       "  <thead>\n",
       "    <tr style=\"text-align: right;\">\n",
       "      <th></th>\n",
       "      <th>titles</th>\n",
       "      <th>summaries</th>\n",
       "      <th>terms</th>\n",
       "    </tr>\n",
       "  </thead>\n",
       "  <tbody>\n",
       "    <tr>\n",
       "      <th>0</th>\n",
       "      <td>Survey on Semantic Stereo Matching / Semantic ...</td>\n",
       "      <td>Stereo matching is one of the widely used tech...</td>\n",
       "      <td>['cs.CV', 'cs.LG']</td>\n",
       "    </tr>\n",
       "    <tr>\n",
       "      <th>1</th>\n",
       "      <td>FUTURE-AI: Guiding Principles and Consensus Re...</td>\n",
       "      <td>The recent advancements in artificial intellig...</td>\n",
       "      <td>['cs.CV', 'cs.AI', 'cs.LG']</td>\n",
       "    </tr>\n",
       "    <tr>\n",
       "      <th>2</th>\n",
       "      <td>Enforcing Mutual Consistency of Hard Regions f...</td>\n",
       "      <td>In this paper, we proposed a novel mutual cons...</td>\n",
       "      <td>['cs.CV', 'cs.AI']</td>\n",
       "    </tr>\n",
       "    <tr>\n",
       "      <th>3</th>\n",
       "      <td>Parameter Decoupling Strategy for Semi-supervi...</td>\n",
       "      <td>Consistency training has proven to be an advan...</td>\n",
       "      <td>['cs.CV']</td>\n",
       "    </tr>\n",
       "    <tr>\n",
       "      <th>4</th>\n",
       "      <td>Background-Foreground Segmentation for Interio...</td>\n",
       "      <td>To ensure safety in automated driving, the cor...</td>\n",
       "      <td>['cs.CV', 'cs.LG']</td>\n",
       "    </tr>\n",
       "  </tbody>\n",
       "</table>\n",
       "</div>"
      ],
      "text/plain": [
       "                                              titles  \\\n",
       "0  Survey on Semantic Stereo Matching / Semantic ...   \n",
       "1  FUTURE-AI: Guiding Principles and Consensus Re...   \n",
       "2  Enforcing Mutual Consistency of Hard Regions f...   \n",
       "3  Parameter Decoupling Strategy for Semi-supervi...   \n",
       "4  Background-Foreground Segmentation for Interio...   \n",
       "\n",
       "                                           summaries  \\\n",
       "0  Stereo matching is one of the widely used tech...   \n",
       "1  The recent advancements in artificial intellig...   \n",
       "2  In this paper, we proposed a novel mutual cons...   \n",
       "3  Consistency training has proven to be an advan...   \n",
       "4  To ensure safety in automated driving, the cor...   \n",
       "\n",
       "                         terms  \n",
       "0           ['cs.CV', 'cs.LG']  \n",
       "1  ['cs.CV', 'cs.AI', 'cs.LG']  \n",
       "2           ['cs.CV', 'cs.AI']  \n",
       "3                    ['cs.CV']  \n",
       "4           ['cs.CV', 'cs.LG']  "
      ]
     },
     "execution_count": 43,
     "metadata": {},
     "output_type": "execute_result"
    }
   ],
   "source": [
    "arxiv_data = pd.read_csv(\n",
    "    \"https://github.com/soumik12345/multi-label-text-classification/releases/download/v0.2/arxiv_data.csv\"\n",
    ")\n",
    "arxiv_data.head()"
   ]
  },
  {
   "cell_type": "markdown",
   "metadata": {
    "id": "Y6s1PQhuXYbB"
   },
   "source": [
    "Our text features are present in the `summaries` column and their corresponding labels\n",
    "are in `terms`. As you can notice, there are multiple categories associated with a\n",
    "particular entry."
   ]
  },
  {
   "cell_type": "code",
   "execution_count": 44,
   "metadata": {
    "id": "doYlpsWZXYbB"
   },
   "outputs": [
    {
     "name": "stdout",
     "output_type": "stream",
     "text": [
      "There are 51774 rows in the dataset.\n"
     ]
    }
   ],
   "source": [
    "print(f\"There are {len(arxiv_data)} rows in the dataset.\")"
   ]
  },
  {
   "cell_type": "markdown",
   "metadata": {
    "id": "we9mbAuZXYbB"
   },
   "source": [
    "Real-world data is noisy. One of the most commonly observed source of noise is data\n",
    "duplication. Here we notice that our initial dataset has got about 13k duplicate entries."
   ]
  },
  {
   "cell_type": "code",
   "execution_count": 45,
   "metadata": {
    "id": "J9xN3U0RXYbC"
   },
   "outputs": [
    {
     "name": "stdout",
     "output_type": "stream",
     "text": [
      "There are 12802 duplicate titles.\n"
     ]
    }
   ],
   "source": [
    "total_duplicate_titles = sum(arxiv_data[\"titles\"].duplicated())\n",
    "print(f\"There are {total_duplicate_titles} duplicate titles.\")"
   ]
  },
  {
   "cell_type": "markdown",
   "metadata": {
    "id": "LOXST6WMXYbC"
   },
   "source": [
    "Before proceeding further, we drop these entries."
   ]
  },
  {
   "cell_type": "code",
   "execution_count": 46,
   "metadata": {
    "id": "pd6MeT_XXYbC"
   },
   "outputs": [
    {
     "name": "stdout",
     "output_type": "stream",
     "text": [
      "There are 38972 rows in the deduplicated dataset.\n",
      "2321\n",
      "3157\n"
     ]
    }
   ],
   "source": [
    "arxiv_data = arxiv_data[~arxiv_data[\"titles\"].duplicated()]\n",
    "print(f\"There are {len(arxiv_data)} rows in the deduplicated dataset.\")\n",
    "\n",
    "# There are some terms with occurrence as low as 1.\n",
    "print(sum(arxiv_data[\"terms\"].value_counts() == 1))\n",
    "\n",
    "# How many unique terms?\n",
    "print(arxiv_data[\"terms\"].nunique())"
   ]
  },
  {
   "cell_type": "markdown",
   "metadata": {
    "id": "LzA1oGANXYbD"
   },
   "source": [
    "As observed above, out of 3,157 unique combinations of `terms`, 2,321 entries have the\n",
    "lowest occurrence. To prepare our train, validation, and test sets with\n",
    "[stratification](https://en.wikipedia.org/wiki/Stratified_sampling), we need to drop\n",
    "these terms."
   ]
  },
  {
   "cell_type": "code",
   "execution_count": 47,
   "metadata": {
    "id": "pS0aSsF4XYbD"
   },
   "outputs": [
    {
     "data": {
      "text/plain": [
       "(36651, 3)"
      ]
     },
     "execution_count": 47,
     "metadata": {},
     "output_type": "execute_result"
    }
   ],
   "source": [
    "# Filtering the rare terms.\n",
    "arxiv_data_filtered = arxiv_data.groupby(\"terms\").filter(lambda x: len(x) > 1)\n",
    "arxiv_data_filtered.shape"
   ]
  },
  {
   "cell_type": "markdown",
   "metadata": {
    "id": "ewABdRcgXYbD"
   },
   "source": [
    "## Convert the string labels to lists of strings\n",
    "\n",
    "The initial labels are represented as raw strings. Here we make them `List[str]` for a\n",
    "more compact representation."
   ]
  },
  {
   "cell_type": "code",
   "execution_count": 48,
   "metadata": {
    "id": "gD-rCgEZXYbD"
   },
   "outputs": [
    {
     "data": {
      "text/plain": [
       "array([list(['cs.CV', 'cs.LG']), list(['cs.CV', 'cs.AI', 'cs.LG']),\n",
       "       list(['cs.CV', 'cs.AI']), list(['cs.CV']),\n",
       "       list(['cs.CV', 'cs.LG'])], dtype=object)"
      ]
     },
     "execution_count": 48,
     "metadata": {},
     "output_type": "execute_result"
    }
   ],
   "source": [
    "arxiv_data_filtered[\"terms\"] = arxiv_data_filtered[\"terms\"].apply(\n",
    "    lambda x: literal_eval(x)\n",
    ")\n",
    "arxiv_data_filtered[\"terms\"].values[:5]"
   ]
  },
  {
   "cell_type": "markdown",
   "metadata": {
    "id": "fegA6471XYbE"
   },
   "source": [
    "## Use stratified splits because of class imbalance\n",
    "\n",
    "The dataset has a\n",
    "[class imbalance problem](https://developers.google.com/machine-learning/glossary/#class-imbalanced-dataset).\n",
    "So, to have a fair evaluation result, we need to ensure the datasets are sampled with\n",
    "stratification. To know more about different strategies to deal with the class imbalance\n",
    "problem, you can follow\n",
    "[this tutorial](https://www.tensorflow.org/tutorials/structured_data/imbalanced_data).\n",
    "For an end-to-end demonstration of classification with imbablanced data, refer to\n",
    "[Imbalanced classification: credit card fraud detection](https://keras.io/examples/structured_data/imbalanced_classification/)."
   ]
  },
  {
   "cell_type": "code",
   "execution_count": 49,
   "metadata": {
    "id": "ouGWfQJSXYbE"
   },
   "outputs": [
    {
     "name": "stdout",
     "output_type": "stream",
     "text": [
      "Number of rows in training set: 32985\n",
      "Number of rows in validation set: 1833\n",
      "Number of rows in test set: 1833\n"
     ]
    }
   ],
   "source": [
    "test_split = 0.1\n",
    "\n",
    "# Initial train and test split.\n",
    "train_df, test_df = train_test_split(\n",
    "    arxiv_data_filtered,\n",
    "    test_size=test_split,\n",
    "    stratify=arxiv_data_filtered[\"terms\"].values,\n",
    ")\n",
    "\n",
    "# Splitting the test set further into validation\n",
    "# and new test sets.\n",
    "val_df = test_df.sample(frac=0.5)\n",
    "test_df.drop(val_df.index, inplace=True)\n",
    "\n",
    "print(f\"Number of rows in training set: {len(train_df)}\")\n",
    "print(f\"Number of rows in validation set: {len(val_df)}\")\n",
    "print(f\"Number of rows in test set: {len(test_df)}\")"
   ]
  },
  {
   "cell_type": "markdown",
   "metadata": {
    "id": "dMECC85_XYbE"
   },
   "source": [
    "## Multi-label binarization\n",
    "\n",
    "Now we preprocess our labels using the\n",
    "[`StringLookup`](https://keras.io/api/layers/preprocessing_layers/categorical/string_lookup)\n",
    "layer."
   ]
  },
  {
   "cell_type": "code",
   "execution_count": 50,
   "metadata": {
    "id": "OEFxDl1EXYbE"
   },
   "outputs": [
    {
     "name": "stdout",
     "output_type": "stream",
     "text": [
      "Vocabulary:\n",
      "\n",
      "['[UNK]', 'cs.CV', 'cs.LG', 'stat.ML', 'cs.AI', 'eess.IV', 'cs.RO', 'cs.CL', 'cs.NE', 'cs.CR', 'math.OC', 'eess.SP', 'cs.GR', 'cs.SI', 'cs.MM', 'cs.SY', 'cs.IR', 'cs.MA', 'eess.SY', 'cs.HC', 'math.IT', 'cs.IT', 'cs.DC', 'stat.AP', 'cs.CY', 'stat.TH', 'math.ST', 'stat.ME', 'eess.AS', 'cs.SD', 'q-bio.QM', 'q-bio.NC', 'cs.DS', 'cs.GT', 'cs.SE', 'cs.CG', 'cs.NI', 'I.2.6', 'stat.CO', 'math.NA', 'cs.NA', 'physics.chem-ph', 'cs.DB', 'q-bio.BM', 'cs.LO', 'cs.PL', 'cond-mat.dis-nn', '68T45', 'math.PR', 'physics.comp-ph', 'I.2.10', 'cs.CE', 'cs.AR', 'q-fin.ST', 'cond-mat.stat-mech', '68T05', 'math.DS', 'cs.CC', 'quant-ph', 'physics.data-an', 'I.4.6', 'physics.soc-ph', 'physics.ao-ph', 'econ.EM', 'cs.DM', 'q-bio.GN', 'physics.med-ph', 'astro-ph.IM', 'I.4.8', 'math.AT', 'cs.PF', 'cs.FL', 'I.4', 'q-fin.TR', 'I.5.4', 'I.2', '68U10', 'hep-ex', 'cond-mat.mtrl-sci', '68T10', 'physics.optics', 'physics.geo-ph', 'physics.flu-dyn', 'math.AP', 'I.4; I.5', 'I.4.9', 'I.2.6; I.2.8', '68T01', '65D19', 'q-fin.CP', 'nlin.CD', 'math.CO', 'cs.MS', 'I.2.6; I.5.1', 'I.2.10; I.4; I.5', 'I.2.0; I.2.6', '68T07', 'cs.SC', 'cs.ET', 'K.3.2', 'I.2.8', 'I.2.10; I.4.8', '68U01', '68T30', '68', 'q-fin.GN', 'q-fin.EC', 'q-bio.MN', 'econ.GN', 'I.4.9; I.5.4', 'I.4.5', 'I.2; I.5', 'I.2; I.4; I.5', 'I.2.6; I.2.7', '68T99', '68Q32', '62H30', 'q-fin.RM', 'q-fin.PM', 'q-bio.TO', 'q-bio.OT', 'physics.bio-ph', 'nlin.AO', 'math.LO', 'math.FA', 'hep-ph', 'cond-mat.soft', 'I.4.6; I.4.8', 'I.4.4', 'I.4.3', 'I.4.0', 'I.2; J.2', 'I.2; I.2.6; I.2.7', 'I.2.7', 'I.2.6; I.5.4', 'I.2.6; I.2.9', 'I.2.6; I.2.7; H.3.1; H.3.3', 'I.2.6; I.2.10', 'I.2.6, I.5.4', 'I.2.1; J.3', 'I.2.10; I.5.1; I.4.8', 'I.2.10; I.4.8; I.5.4', 'I.2.10; I.2.6', 'I.2.1', 'H.3.1; I.2.6; I.2.7', 'H.3.1; H.3.3; I.2.6; I.2.7', 'G.3', 'F.2.2; I.2.7', 'E.5; E.4; E.2; H.1.1; F.1.1; F.1.3', '68Txx', '62H99', '62H35', '14J60 (Primary) 14F05, 14J26 (Secondary)']\n"
     ]
    }
   ],
   "source": [
    "terms = tf.ragged.constant(train_df[\"terms\"].values)\n",
    "lookup = tf.keras.layers.StringLookup(output_mode=\"multi_hot\")\n",
    "lookup.adapt(terms)\n",
    "vocab = lookup.get_vocabulary()\n",
    "\n",
    "\n",
    "def invert_multi_hot(encoded_labels):\n",
    "    \"\"\"Reverse a single multi-hot encoded label to a tuple of vocab terms.\"\"\"\n",
    "    hot_indices = np.argwhere(encoded_labels == 1.0)[..., 0]\n",
    "    return np.take(vocab, hot_indices)\n",
    "\n",
    "\n",
    "print(\"Vocabulary:\\n\")\n",
    "print(vocab)\n"
   ]
  },
  {
   "cell_type": "markdown",
   "metadata": {
    "id": "ZvtFrQipXYbE"
   },
   "source": [
    "Here we are separating the individual unique classes available from the label\n",
    "pool and then using this information to represent a given label set with 0's and 1's.\n",
    "Below is an example."
   ]
  },
  {
   "cell_type": "code",
   "execution_count": 51,
   "metadata": {
    "id": "aYYXWU7nXYbF"
   },
   "outputs": [
    {
     "name": "stdout",
     "output_type": "stream",
     "text": [
      "Original label: ['cs.CV', 'cs.CL', 'cs.LG']\n",
      "Label-binarized representation: [[0. 1. 1. 0. 0. 0. 0. 1. 0. 0. 0. 0. 0. 0. 0. 0. 0. 0. 0. 0. 0. 0. 0. 0.\n",
      "  0. 0. 0. 0. 0. 0. 0. 0. 0. 0. 0. 0. 0. 0. 0. 0. 0. 0. 0. 0. 0. 0. 0. 0.\n",
      "  0. 0. 0. 0. 0. 0. 0. 0. 0. 0. 0. 0. 0. 0. 0. 0. 0. 0. 0. 0. 0. 0. 0. 0.\n",
      "  0. 0. 0. 0. 0. 0. 0. 0. 0. 0. 0. 0. 0. 0. 0. 0. 0. 0. 0. 0. 0. 0. 0. 0.\n",
      "  0. 0. 0. 0. 0. 0. 0. 0. 0. 0. 0. 0. 0. 0. 0. 0. 0. 0. 0. 0. 0. 0. 0. 0.\n",
      "  0. 0. 0. 0. 0. 0. 0. 0. 0. 0. 0. 0. 0. 0. 0. 0. 0. 0. 0. 0. 0. 0. 0. 0.\n",
      "  0. 0. 0. 0. 0. 0. 0. 0. 0.]]\n"
     ]
    }
   ],
   "source": [
    "sample_label = train_df[\"terms\"].iloc[0]\n",
    "print(f\"Original label: {sample_label}\")\n",
    "\n",
    "label_binarized = lookup([sample_label])\n",
    "print(f\"Label-binarized representation: {label_binarized}\")"
   ]
  },
  {
   "cell_type": "markdown",
   "metadata": {
    "id": "uSohtflRXYbF"
   },
   "source": [
    "## Data preprocessing and `tf.data.Dataset` objects\n",
    "\n",
    "We first get percentile estimates of the sequence lengths. The purpose will be clear in a\n",
    "moment."
   ]
  },
  {
   "cell_type": "code",
   "execution_count": 52,
   "metadata": {
    "id": "6-HyRujBXYbF"
   },
   "outputs": [
    {
     "data": {
      "text/plain": [
       "count    32985.000000\n",
       "mean       156.476580\n",
       "std         41.440845\n",
       "min          5.000000\n",
       "25%        128.000000\n",
       "50%        154.000000\n",
       "75%        183.000000\n",
       "max        297.000000\n",
       "Name: summaries, dtype: float64"
      ]
     },
     "execution_count": 52,
     "metadata": {},
     "output_type": "execute_result"
    }
   ],
   "source": [
    "train_df[\"summaries\"].apply(lambda x: len(x.split(\" \"))).describe()"
   ]
  },
  {
   "cell_type": "markdown",
   "metadata": {
    "id": "uBFGnNW3XYbF"
   },
   "source": [
    "Notice that 50% of the abstracts have a length of 154 (you may get a different number\n",
    "based on the split). So, any number close to that value is a good enough approximate for the\n",
    "maximum sequence length.\n",
    "\n",
    "Now, we implement utilities to prepare our datasets."
   ]
  },
  {
   "cell_type": "code",
   "execution_count": 53,
   "metadata": {
    "id": "d3ClZ-4yXYbF"
   },
   "outputs": [],
   "source": [
    "max_seqlen = 150\n",
    "batch_size = 128\n",
    "padding_token = \"<pad>\"\n",
    "auto = tf.data.AUTOTUNE\n",
    "\n",
    "\n",
    "def make_dataset(dataframe, is_train=True):\n",
    "    labels = tf.ragged.constant(dataframe[\"terms\"].values)\n",
    "    label_binarized = lookup(labels).numpy()\n",
    "    dataset = tf.data.Dataset.from_tensor_slices(\n",
    "        (dataframe[\"summaries\"].values, label_binarized)\n",
    "    )\n",
    "    dataset = dataset.shuffle(batch_size * 10) if is_train else dataset\n",
    "    return dataset.batch(batch_size)\n"
   ]
  },
  {
   "cell_type": "markdown",
   "metadata": {
    "id": "zOjlyRK4XYbF"
   },
   "source": [
    "Now we can prepare the `tf.data.Dataset` objects."
   ]
  },
  {
   "cell_type": "code",
   "execution_count": 54,
   "metadata": {
    "id": "-24PJzfRXYbG"
   },
   "outputs": [],
   "source": [
    "train_dataset = make_dataset(train_df, is_train=True)\n",
    "validation_dataset = make_dataset(val_df, is_train=False)\n",
    "test_dataset = make_dataset(test_df, is_train=False)"
   ]
  },
  {
   "cell_type": "markdown",
   "metadata": {
    "id": "-NoJoP43XYbG"
   },
   "source": [
    "## Dataset preview"
   ]
  },
  {
   "cell_type": "code",
   "execution_count": 55,
   "metadata": {
    "id": "fROCidl8XYbG"
   },
   "outputs": [
    {
     "name": "stdout",
     "output_type": "stream",
     "text": [
      "Abstract: b'Graph convolutional networks (GCNs) have shown the powerful ability in text\\nstructure representation and effectively facilitate the task of text\\nclassification. However, challenges still exist in adapting GCN on learning\\ndiscriminative features from texts due to the main issue of graph variants\\nincurred by the textual complexity and diversity. In this paper, we propose a\\ndual-attention GCN to model the structural information of various texts as well\\nas tackle the graph-invariant problem through embedding two types of attention\\nmechanisms, i.e. the connection-attention and hop-attention, into the classic\\nGCN. To encode various connection patterns between neighbour words,\\nconnection-attention adaptively imposes different weights specified to\\nneighbourhoods of each word, which captures the short-term dependencies. On the\\nother hand, the hop-attention applies scaled coefficients to different scopes\\nduring the graph diffusion process to make the model learn more about the\\ndistribution of context, which captures long-term semantics in an adaptive way.\\nExtensive experiments are conducted on five widely used datasets to evaluate\\nour dual-attention GCN, and the achieved state-of-the-art performance verifies\\nthe effectiveness of dual-attention mechanisms.'\n",
      "Label(s): ['cs.LG' 'stat.ML']\n",
      " \n",
      "Abstract: b'Change detection in heterogeneous remote sensing images is crucial for\\ndisaster damage assessment. Recent methods use homogenous transformation, which\\ntransforms the heterogeneous optical and SAR remote sensing images into the\\nsame feature space, to achieve change detection. Such transformations mainly\\noperate on the low-level feature space and may corrupt the semantic content,\\ndeteriorating the performance of change detection. To solve this problem, this\\npaper presents a new homogeneous transformation model termed deep homogeneous\\nfeature fusion (DHFF) based on image style transfer (IST). Unlike the existing\\nmethods, the DHFF method segregates the semantic content and the style features\\nin the heterogeneous images to perform homogeneous transformation. The\\nseparation of the semantic content and the style in homogeneous transformation\\nprevents the corruption of image semantic content, especially in the regions of\\nchange. In this way, the detection performance is improved with accurate\\nhomogeneous transformation. Furthermore, we present a new iterative IST (IIST)\\nstrategy, where the cost function in each IST iteration measures and thus\\nmaximizes the feature homogeneity in additional new feature subspaces for\\nchange detection. After that, change detection is accomplished accurately on\\nthe original and the transformed images that are in the same feature space.\\nReal remote sensing images acquired by SAR and optical satellites are utilized\\nto evaluate the performance of the proposed method. The experiments demonstrate\\nthat the proposed DHFF method achieves significant improvement for change\\ndetection in heterogeneous optical and SAR remote sensing images, in terms of\\nboth accuracy rate and Kappa index.'\n",
      "Label(s): ['cs.CV']\n",
      " \n",
      "Abstract: b'Bayesian optimization (BO) is a widely-used method for optimizing expensive\\n(to evaluate) problems. At the core of most BO methods is the modeling of the\\nobjective function using a Gaussian Process (GP) whose covariance is selected\\nfrom a set of standard covariance functions. From a weight-space view, this\\nmodels the objective as a linear function in a feature space implied by the\\ngiven covariance K, with an arbitrary Gaussian weight prior ${\\\\bf w} \\\\sim\\n\\\\mathcal{N} ({\\\\bf 0}, {\\\\bf I})$. In many practical applications there is data\\navailable that has a similar (covariance) structure to the objective, but\\nwhich, having different form, cannot be used directly in standard transfer\\nlearning. In this paper we show how such auxiliary data may be used to\\nconstruct a GP covariance corresponding to a more appropriate weight prior for\\nthe objective function. Building on this, we show that we may accelerate BO by\\nmodeling the objective function using this (learned) weight prior, which we\\ndemonstrate on both test functions and a practical application to short-polymer\\nfibre manufacture.'\n",
      "Label(s): ['cs.LG' 'stat.ML']\n",
      " \n",
      "Abstract: b'We address the problem of phrase grounding by lear ing a multi-level common\\nsemantic space shared by the textual and visual modalities. We exploit multiple\\nlevels of feature maps of a Deep Convolutional Neural Network, as well as\\ncontextualized word and sentence embeddings extracted from a character-based\\nlanguage model. Following dedicated non-linear mappings for visual features at\\neach level, word, and sentence embeddings, we obtain multiple instantiations of\\nour common semantic space in which comparisons between any target text and the\\nvisual content is performed with cosine similarity. We guide the model by a\\nmulti-level multimodal attention mechanism which outputs attended visual\\nfeatures at each level. The best level is chosen to be compared with text\\ncontent for maximizing the pertinence scores of image-sentence pairs of the\\nground truth. Experiments conducted on three publicly available datasets show\\nsignificant performance gains (20%-60% relative) over the state-of-the-art in\\nphrase localization and set a new performance record on those datasets. We\\nprovide a detailed ablation study to show the contribution of each element of\\nour approach and release our code on GitHub.'\n",
      "Label(s): ['cs.CV' 'cs.LG' 'eess.IV' 'cs.CL']\n",
      " \n",
      "Abstract: b\"Tracking humans in crowded video sequences is an important constituent of\\nvisual scene understanding. Increasing crowd density challenges visibility of\\nhumans, limiting the scalability of existing pedestrian trackers to higher\\ncrowd densities. For that reason, we propose to revitalize head tracking with\\nCrowd of Heads Dataset (CroHD), consisting of 9 sequences of 11,463 frames with\\nover 2,276,838 heads and 5,230 tracks annotated in diverse scenes. For\\nevaluation, we proposed a new metric, IDEucl, to measure an algorithm's\\nefficacy in preserving a unique identity for the longest stretch in image\\ncoordinate space, thus building a correspondence between pedestrian crowd\\nmotion and the performance of a tracking algorithm. Moreover, we also propose a\\nnew head detector, HeadHunter, which is designed for small head detection in\\ncrowded scenes. We extend HeadHunter with a Particle Filter and a color\\nhistogram based re-identification module for head tracking. To establish this\\nas a strong baseline, we compare our tracker with existing state-of-the-art\\npedestrian trackers on CroHD and demonstrate superiority, especially in\\nidentity preserving tracking metrics. With a light-weight head detector and a\\ntracker which is efficient at identity preservation, we believe our\\ncontributions will serve useful in advancement of pedestrian tracking in dense\\ncrowds.\"\n",
      "Label(s): ['cs.CV']\n",
      " \n"
     ]
    }
   ],
   "source": [
    "text_batch, label_batch = next(iter(train_dataset))\n",
    "\n",
    "for i, text in enumerate(text_batch[:5]):\n",
    "    label = label_batch[i].numpy()[None, ...]\n",
    "    print(f\"Abstract: {text}\")\n",
    "    print(f\"Label(s): {invert_multi_hot(label[0])}\")\n",
    "    print(\" \")"
   ]
  },
  {
   "cell_type": "markdown",
   "metadata": {
    "id": "OeXiY7QMXYbG"
   },
   "source": [
    "## Vectorization\n",
    "\n",
    "Before we feed the data to our model, we need to vectorize it (represent it in a numerical form).\n",
    "For that purpose, we will use the\n",
    "[`TextVectorization` layer](https://keras.io/api/layers/preprocessing_layers/text/text_vectorization).\n",
    "It can operate as a part of your main model so that the model is excluded from the core\n",
    "preprocessing logic. This greatly reduces the chances of training / serving skew during inference.\n",
    "\n",
    "We first calculate the number of unique words present in the abstracts."
   ]
  },
  {
   "cell_type": "code",
   "execution_count": 56,
   "metadata": {
    "id": "6rwu3boUXYbG"
   },
   "outputs": [
    {
     "name": "stdout",
     "output_type": "stream",
     "text": [
      "153385\n"
     ]
    }
   ],
   "source": [
    "# Source: https://stackoverflow.com/a/18937309/7636462\n",
    "vocabulary = set()\n",
    "train_df[\"summaries\"].str.lower().str.split().apply(vocabulary.update)\n",
    "vocabulary_size = len(vocabulary)\n",
    "print(vocabulary_size)\n"
   ]
  },
  {
   "cell_type": "markdown",
   "metadata": {
    "id": "93qZRB8hXYbG"
   },
   "source": [
    "We now create our vectorization layer and `map()` to the `tf.data.Dataset`s created\n",
    "earlier."
   ]
  },
  {
   "cell_type": "code",
   "execution_count": 57,
   "metadata": {
    "id": "EPpAjt8IXYbH"
   },
   "outputs": [],
   "source": [
    "text_vectorizer = layers.TextVectorization(\n",
    "    max_tokens=vocabulary_size, ngrams=2, output_mode=\"tf_idf\"\n",
    ")\n",
    "\n",
    "# `TextVectorization` layer needs to be adapted as per the vocabulary from our\n",
    "# training set.\n",
    "with tf.device(\"/CPU:0\"):\n",
    "    text_vectorizer.adapt(train_dataset.map(lambda text, label: text))\n",
    "\n",
    "train_dataset = train_dataset.map(\n",
    "    lambda text, label: (text_vectorizer(text), label), num_parallel_calls=auto\n",
    ").prefetch(auto)\n",
    "validation_dataset = validation_dataset.map(\n",
    "    lambda text, label: (text_vectorizer(text), label), num_parallel_calls=auto\n",
    ").prefetch(auto)\n",
    "test_dataset = test_dataset.map(\n",
    "    lambda text, label: (text_vectorizer(text), label), num_parallel_calls=auto\n",
    ").prefetch(auto)\n"
   ]
  },
  {
   "cell_type": "markdown",
   "metadata": {
    "id": "SyxW70O2XYbH"
   },
   "source": [
    "A batch of raw text will first go through the `TextVectorization` layer and it will\n",
    "generate their integer representations. Internally, the `TextVectorization` layer will\n",
    "first create bi-grams out of the sequences and then represent them using\n",
    "[TF-IDF](https://wikipedia.org/wiki/Tf%E2%80%93idf). The output representations will then\n",
    "be passed to the shallow model responsible for text classification.\n",
    "\n",
    "To learn more about other possible configurations with `TextVectorizer`, please consult\n",
    "the\n",
    "[official documentation](https://keras.io/api/layers/preprocessing_layers/text/text_vectorization).\n",
    "\n",
    "**Note**: Setting the `max_tokens` argument to a pre-calculated vocabulary size is\n",
    "not a requirement."
   ]
  },
  {
   "cell_type": "markdown",
   "metadata": {
    "id": "U-FIW5tBXYbH"
   },
   "source": [
    "## Create a text classification model\n",
    "\n",
    "We will keep our model simple -- it will be a small stack of fully-connected layers with\n",
    "ReLU as the non-linearity."
   ]
  },
  {
   "cell_type": "code",
   "execution_count": 58,
   "metadata": {
    "id": "TUKpzIa3XYbH"
   },
   "outputs": [],
   "source": [
    "\n",
    "def make_model():\n",
    "    shallow_mlp_model = keras.Sequential(\n",
    "        [\n",
    "            layers.Dense(512, activation=\"relu\"),\n",
    "            layers.Dense(256, activation=\"relu\"),\n",
    "            layers.Dense(lookup.vocabulary_size(), activation=\"sigmoid\"),\n",
    "        ]  # More on why \"sigmoid\" has been used here in a moment.\n",
    "    )\n",
    "    return shallow_mlp_model\n"
   ]
  },
  {
   "cell_type": "markdown",
   "metadata": {
    "id": "IcAhrTLZXYbH"
   },
   "source": [
    "## Train the model\n",
    "\n",
    "We will train our model using the binary crossentropy loss. This is because the labels\n",
    "are not disjoint. For a given abstract, we may have multiple categories. So, we will\n",
    "divide the prediction task into a series of multiple binary classification problems. This\n",
    "is also why we kept the activation function of the classification layer in our model to\n",
    "sigmoid. Researchers have used other combinations of loss function and activation\n",
    "function as well. For example, in [Exploring the Limits of Weakly Supervised Pretraining](https://arxiv.org/abs/1805.00932),\n",
    "Mahajan et al. used the softmax activation function and cross-entropy loss to train\n",
    "their models.\n",
    "\n",
    "There are several options of metrics that can be used in multi-label classification.\n",
    "To keep this code example narrow we decided to use the\n",
    "[binary accuracy metric](https://keras.io/api/metrics/accuracy_metrics/#binaryaccuracy-class).\n",
    "To see the explanation why this metric is used we refer to this\n",
    "[pull-request](https://github.com/keras-team/keras-io/pull/1133#issuecomment-1322736860).\n",
    "There are also other suitable metrics for multi-label classification, like\n",
    "[F1 Score](https://www.tensorflow.org/addons/api_docs/python/tfa/metrics/F1Score) or\n",
    "[Hamming loss](https://www.tensorflow.org/addons/api_docs/python/tfa/metrics/HammingLoss)."
   ]
  },
  {
   "cell_type": "code",
   "execution_count": 59,
   "metadata": {
    "id": "L63fpn1qXYbH"
   },
   "outputs": [
    {
     "name": "stdout",
     "output_type": "stream",
     "text": [
      "Epoch 1/20\n",
      "258/258 [==============================] - 25s 94ms/step - loss: 0.0329 - binary_accuracy: 0.9891 - val_loss: 0.0184 - val_binary_accuracy: 0.9944\n",
      "Epoch 2/20\n",
      "258/258 [==============================] - 24s 94ms/step - loss: 0.0031 - binary_accuracy: 0.9991 - val_loss: 0.0260 - val_binary_accuracy: 0.9941\n",
      "Epoch 3/20\n",
      "258/258 [==============================] - 25s 95ms/step - loss: 7.9756e-04 - binary_accuracy: 0.9998 - val_loss: 0.0330 - val_binary_accuracy: 0.9941\n",
      "Epoch 4/20\n",
      "258/258 [==============================] - 24s 94ms/step - loss: 3.7057e-04 - binary_accuracy: 0.9999 - val_loss: 0.0375 - val_binary_accuracy: 0.9941\n",
      "Epoch 5/20\n",
      "258/258 [==============================] - 25s 95ms/step - loss: 1.9368e-04 - binary_accuracy: 1.0000 - val_loss: 0.0405 - val_binary_accuracy: 0.9941\n",
      "Epoch 6/20\n",
      "258/258 [==============================] - 25s 95ms/step - loss: 1.2782e-04 - binary_accuracy: 1.0000 - val_loss: 0.0416 - val_binary_accuracy: 0.9942\n",
      "Epoch 7/20\n",
      "258/258 [==============================] - 25s 95ms/step - loss: 7.3536e-05 - binary_accuracy: 1.0000 - val_loss: 0.0442 - val_binary_accuracy: 0.9941\n",
      "Epoch 8/20\n",
      "258/258 [==============================] - 25s 95ms/step - loss: 6.3902e-05 - binary_accuracy: 1.0000 - val_loss: 0.0446 - val_binary_accuracy: 0.9941\n",
      "Epoch 9/20\n",
      "258/258 [==============================] - 25s 95ms/step - loss: 4.9690e-05 - binary_accuracy: 1.0000 - val_loss: 0.0469 - val_binary_accuracy: 0.9943\n",
      "Epoch 10/20\n",
      "258/258 [==============================] - 25s 95ms/step - loss: 5.5980e-05 - binary_accuracy: 1.0000 - val_loss: 0.0464 - val_binary_accuracy: 0.9942\n",
      "Epoch 11/20\n",
      "258/258 [==============================] - 25s 95ms/step - loss: 1.7391e-04 - binary_accuracy: 1.0000 - val_loss: 0.0397 - val_binary_accuracy: 0.9939\n",
      "Epoch 12/20\n",
      "258/258 [==============================] - 25s 95ms/step - loss: 8.7466e-04 - binary_accuracy: 0.9997 - val_loss: 0.0391 - val_binary_accuracy: 0.9940\n",
      "Epoch 13/20\n",
      "258/258 [==============================] - 25s 95ms/step - loss: 0.0011 - binary_accuracy: 0.9997 - val_loss: 0.0429 - val_binary_accuracy: 0.9938\n",
      "Epoch 14/20\n",
      "258/258 [==============================] - 25s 95ms/step - loss: 0.0017 - binary_accuracy: 0.9995 - val_loss: 0.0414 - val_binary_accuracy: 0.9936\n",
      "Epoch 15/20\n",
      "258/258 [==============================] - 25s 95ms/step - loss: 0.0011 - binary_accuracy: 0.9997 - val_loss: 0.0499 - val_binary_accuracy: 0.9935\n",
      "Epoch 16/20\n",
      "258/258 [==============================] - 25s 95ms/step - loss: 5.6334e-04 - binary_accuracy: 0.9999 - val_loss: 0.0536 - val_binary_accuracy: 0.9935\n",
      "Epoch 17/20\n",
      "258/258 [==============================] - 25s 95ms/step - loss: 3.1049e-04 - binary_accuracy: 0.9999 - val_loss: 0.0569 - val_binary_accuracy: 0.9936\n",
      "Epoch 18/20\n",
      "258/258 [==============================] - 25s 95ms/step - loss: 2.1522e-04 - binary_accuracy: 0.9999 - val_loss: 0.0613 - val_binary_accuracy: 0.9935\n",
      "Epoch 19/20\n",
      "258/258 [==============================] - 24s 94ms/step - loss: 1.3055e-04 - binary_accuracy: 1.0000 - val_loss: 0.0654 - val_binary_accuracy: 0.9938\n",
      "Epoch 20/20\n",
      "258/258 [==============================] - 24s 91ms/step - loss: 1.2141e-04 - binary_accuracy: 1.0000 - val_loss: 0.0642 - val_binary_accuracy: 0.9936\n"
     ]
    },
    {
     "data": {
      "image/png": "[encoded data removed]",
      "text/plain": [
       "<Figure size 640x480 with 1 Axes>"
      ]
     },
     "metadata": {},
     "output_type": "display_data"
    },
    {
     "data": {
      "image/png": "[encoded data removed]",
      "text/plain": [
       "<Figure size 640x480 with 1 Axes>"
      ]
     },
     "metadata": {},
     "output_type": "display_data"
    }
   ],
   "source": [
    "epochs = 20\n",
    "\n",
    "shallow_mlp_model = make_model()\n",
    "shallow_mlp_model.compile(\n",
    "    loss=\"binary_crossentropy\", optimizer=\"adam\", metrics=[\"binary_accuracy\"]\n",
    ")\n",
    "\n",
    "history = shallow_mlp_model.fit(\n",
    "    train_dataset, validation_data=validation_dataset, epochs=epochs\n",
    ")\n",
    "\n",
    "\n",
    "def plot_result(item):\n",
    "    plt.plot(history.history[item], label=item)\n",
    "    plt.plot(history.history[\"val_\" + item], label=\"val_\" + item)\n",
    "    plt.xlabel(\"Epochs\")\n",
    "    plt.ylabel(item)\n",
    "    plt.title(\"Train and Validation {} Over Epochs\".format(item), fontsize=14)\n",
    "    plt.legend()\n",
    "    plt.grid()\n",
    "    plt.show()\n",
    "\n",
    "\n",
    "plot_result(\"loss\")\n",
    "plot_result(\"binary_accuracy\")"
   ]
  },
  {
   "cell_type": "markdown",
   "metadata": {
    "id": "eJWsbBTKXYbR"
   },
   "source": [
    "While training, we notice an initial sharp fall in the loss followed by a gradual decay."
   ]
  },
  {
   "cell_type": "markdown",
   "metadata": {
    "id": "_JdtKOGrXYbR"
   },
   "source": [
    "### Evaluate the model"
   ]
  },
  {
   "cell_type": "code",
   "execution_count": 60,
   "metadata": {
    "id": "UZoSlzoDXYbR"
   },
   "outputs": [
    {
     "name": "stdout",
     "output_type": "stream",
     "text": [
      "15/15 [==============================] - 0s 27ms/step - loss: 0.0671 - binary_accuracy: 0.9931\n",
      "Categorical accuracy on the test set: 99.31%.\n"
     ]
    }
   ],
   "source": [
    "_, binary_acc = shallow_mlp_model.evaluate(test_dataset)\n",
    "print(f\"Categorical accuracy on the test set: {round(binary_acc * 100, 2)}%.\")"
   ]
  },
  {
   "cell_type": "markdown",
   "metadata": {
    "id": "XJYp0qUqXYbR"
   },
   "source": [
    "The trained model gives us an evaluation accuracy of ~99%."
   ]
  },
  {
   "cell_type": "markdown",
   "metadata": {
    "id": "wtlr9QQrXYbR"
   },
   "source": [
    "## Inference\n",
    "\n",
    "An important feature of the\n",
    "[preprocessing layers provided by Keras](https://keras.io/guides/preprocessing_layers/)\n",
    "is that they can be included inside a `tf.keras.Model`. We will export an inference model\n",
    "by including the `text_vectorization` layer on top of `shallow_mlp_model`. This will\n",
    "allow our inference model to directly operate on raw strings.\n",
    "\n",
    "**Note** that during training it is always preferable to use these preprocessing\n",
    "layers as a part of the data input pipeline rather than the model to avoid\n",
    "surfacing bottlenecks for the hardware accelerators. This also allows for\n",
    "asynchronous data processing."
   ]
  },
  {
   "cell_type": "code",
   "execution_count": 61,
   "metadata": {
    "id": "_CbzDw1HXYbR"
   },
   "outputs": [
    {
     "name": "stdout",
     "output_type": "stream",
     "text": [
      "4/4 [==============================] - 0s 13ms/step\n",
      "Abstract: b'Optical flow estimation is an essential step for many real-world computer\\nvision tasks. Existing deep networks have achieved satisfactory results by\\nmostly employing a pyramidal coarse-to-fine paradigm, where a key process is to\\nadopt warped target feature based on previous flow prediction to correlate with\\nsource feature for building 3D matching cost volume. However, the warping\\noperation can lead to troublesome ghosting problem that results in ambiguity.\\nMoreover, occluded areas are treated equally with non occluded regions in most\\nexisting works, which may cause performance degradation. To deal with these\\nchallenges, we propose a lightweight yet efficient optical flow network, named\\nOAS-Net (occlusion aware sampling network) for accurate optical flow. First, a\\nnew sampling based correlation layer is employed without noisy warping\\noperation. Second, a novel occlusion aware module is presented to make raw cost\\nvolume conscious of occluded regions. Third, a shared flow and occlusion\\nawareness decoder is adopted for structure compactness. Experiments on Sintel\\nand KITTI datasets demonstrate the effectiveness of proposed approaches.'\n",
      "Label(s): ['cs.CV']\n",
      "Predicted Label(s): (cs.CV, cs.LG, eess.IV)\n",
      " \n",
      "Abstract: b'Deep neural networks are vulnerable to adversarial attacks. White-box\\nadversarial attacks can fool neural networks with small adversarial\\nperturbations, especially for large size images. However, keeping successful\\nadversarial perturbations imperceptible is especially challenging for\\ntransfer-based black-box adversarial attacks. Often such adversarial examples\\ncan be easily spotted due to their unpleasantly poor visual qualities, which\\ncompromises the threat of adversarial attacks in practice. In this study, to\\nimprove the image quality of black-box adversarial examples perceptually, we\\npropose structure-aware adversarial attacks by generating adversarial images\\nbased on psychological perceptual models. Specifically, we allow higher\\nperturbations on perceptually insignificant regions, while assigning lower or\\nno perturbation on visually sensitive regions. In addition to the proposed\\nspatial-constrained adversarial perturbations, we also propose a novel\\nstructure-aware frequency adversarial attack method in the discrete cosine\\ntransform (DCT) domain. Since the proposed attacks are independent of the\\ngradient estimation, they can be directly incorporated with existing\\ngradient-based attacks. Experimental results show that, with the comparable\\nattack success rate (ASR), the proposed methods can produce adversarial\\nexamples with considerably improved visual quality for free. With the\\ncomparable perceptual quality, the proposed approaches achieve higher attack\\nsuccess rates: particularly for the frequency structure-aware attacks, the\\naverage ASR improves more than 10% over the baseline attacks.'\n",
      "Label(s): ['cs.CV' 'cs.LG' 'eess.IV' 'cs.CR']\n",
      "Predicted Label(s): (cs.CV, cs.CR, stat.ML)\n",
      " \n",
      "Abstract: b\"Recently, there has been a surge of interest in the use of machine learning\\nto help aid in the accurate predictions of financial markets. Despite the\\nexciting advances in this cross-section of finance and AI, many of the current\\napproaches are limited to using technical analysis to capture historical trends\\nof each stock price and thus limited to certain experimental setups to obtain\\ngood prediction results. On the other hand, professional investors additionally\\nuse their rich knowledge of inter-market and inter-company relations to map the\\nconnectivity of companies and events, and use this map to make better market\\npredictions. For instance, they would predict the movement of a certain\\ncompany's stock price based not only on its former stock price trends but also\\non the performance of its suppliers or customers, the overall industry,\\nmacroeconomic factors and trade policies. This paper investigates the\\neffectiveness of work at the intersection of market predictions and graph\\nneural networks, which hold the potential to mimic the ways in which investors\\nmake decisions by incorporating company knowledge graphs directly into the\\npredictive model. The main goal of this work is to test the validity of this\\napproach across different markets and longer time horizons for backtesting\\nusing rolling window analysis. In this work, we concentrate on the prediction\\nof individual stock prices in the Japanese Nikkei 225 market over a period of\\nroughly 20 years. For the knowledge graph, we use the Nikkei Value Search data,\\nwhich is a rich dataset showing mainly supplier relations among Japanese and\\nforeign companies. Our preliminary results show a 29.5% increase and a 2.2-fold\\nincrease in the return ratio and Sharpe ratio, respectively, when compared to\\nthe market benchmark, as well as a 6.32% increase and 1.3-fold increase,\\nrespectively, compared to the baseline LSTM model.\"\n",
      "Label(s): ['cs.LG' 'q-fin.ST']\n",
      "Predicted Label(s): (cs.LG, cs.AI, stat.ML)\n",
      " \n",
      "Abstract: b'As a new way of training generative models, Generative Adversarial Nets (GAN)\\nthat uses a discriminative model to guide the training of the generative model\\nhas enjoyed considerable success in generating real-valued data. However, it\\nhas limitations when the goal is for generating sequences of discrete tokens. A\\nmajor reason lies in that the discrete outputs from the generative model make\\nit difficult to pass the gradient update from the discriminative model to the\\ngenerative model. Also, the discriminative model can only assess a complete\\nsequence, while for a partially generated sequence, it is non-trivial to\\nbalance its current score and the future one once the entire sequence has been\\ngenerated. In this paper, we propose a sequence generation framework, called\\nSeqGAN, to solve the problems. Modeling the data generator as a stochastic\\npolicy in reinforcement learning (RL), SeqGAN bypasses the generator\\ndifferentiation problem by directly performing gradient policy update. The RL\\nreward signal comes from the GAN discriminator judged on a complete sequence,\\nand is passed back to the intermediate state-action steps using Monte Carlo\\nsearch. Extensive experiments on synthetic data and real-world tasks\\ndemonstrate significant improvements over strong baselines.'\n",
      "Label(s): ['cs.LG' 'cs.AI']\n",
      "Predicted Label(s): (cs.LG, cs.AI, stat.ML)\n",
      " \n",
      "Abstract: b'Image attribute editing is a challenging problem that has been recently\\nstudied by many researchers using generative networks. The challenge is in the\\nmanipulation of selected attributes of images while preserving the other\\ndetails. The method to achieve this goal is to find an accurate latent vector\\nrepresentation of an image and a direction corresponding to the attribute.\\nAlmost all the works in the literature use labeled datasets in a supervised\\nsetting for this purpose. In this study, we introduce an architecture called\\nCyclic Reverse Generator (CRG), which allows learning the inverse function of\\nthe generator accurately via an encoder in an unsupervised setting by utilizing\\ncyclic cost minimization. Attribute editing is then performed using the CRG\\nmodels for finding desired attribute representations in the latent space. In\\nthis work, we use two arbitrary reference images, with and without desired\\nattributes, to compute an attribute direction for editing. We show that the\\nproposed approach performs better in terms of image reconstruction compared to\\nthe existing end-to-end generative models both quantitatively and\\nqualitatively. We demonstrate state-of-the-art results on both real images and\\ngenerated images in CelebA dataset.'\n",
      "Label(s): ['cs.CV' 'eess.IV']\n",
      "Predicted Label(s): (cs.CV, cs.LG, cs.GR)\n",
      " \n"
     ]
    }
   ],
   "source": [
    "# Create a model for inference.\n",
    "model_for_inference = keras.Sequential([text_vectorizer, shallow_mlp_model])\n",
    "\n",
    "# Create a small dataset just for demoing inference.\n",
    "inference_dataset = make_dataset(test_df.sample(100), is_train=False)\n",
    "text_batch, label_batch = next(iter(inference_dataset))\n",
    "predicted_probabilities = model_for_inference.predict(text_batch)\n",
    "\n",
    "# Perform inference.\n",
    "for i, text in enumerate(text_batch[:5]):\n",
    "    label = label_batch[i].numpy()[None, ...]\n",
    "    print(f\"Abstract: {text}\")\n",
    "    print(f\"Label(s): {invert_multi_hot(label[0])}\")\n",
    "    predicted_proba = [proba for proba in predicted_probabilities[i]]\n",
    "    top_3_labels = [\n",
    "        x\n",
    "        for _, x in sorted(\n",
    "            zip(predicted_probabilities[i], lookup.get_vocabulary()),\n",
    "            key=lambda pair: pair[0],\n",
    "            reverse=True,\n",
    "        )\n",
    "    ][:3]\n",
    "    print(f\"Predicted Label(s): ({', '.join([label for label in top_3_labels])})\")\n",
    "    print(\" \")"
   ]
  },
  {
   "cell_type": "markdown",
   "metadata": {
    "id": "3r8lfhuuXYbR"
   },
   "source": [
    "The prediction results are not that great but not below the par for a simple model like\n",
    "ours. We can improve this performance with models that consider word order like LSTM or\n",
    "even those that use Transformers ([Vaswani et al.](https://arxiv.org/abs/1706.03762))."
   ]
  },
  {
   "cell_type": "markdown",
   "metadata": {
    "id": "S88hERr2XYbR"
   },
   "source": [
    "## Acknowledgements\n",
    "\n",
    "We would like to thank [Matt Watson](https://github.com/mattdangerw) for helping us\n",
    "tackle the multi-label binarization part and inverse-transforming the processed labels\n",
    "to the original form.\n",
    "\n",
    "Thanks [Cingis Kratochvil](https://github.com/cumbalik) for suggesting and extending\n",
    "this code example by the binary accuracy."
   ]
  }
 ],
 "metadata": {
  "accelerator": "GPU",
  "colab": {
   "name": "..\\examples\\nlp\\multi_label_classification",
   "provenance": [],
   "toc_visible": true
  },
  "kernelspec": {
   "display_name": "Python 3 (ipykernel)",
   "language": "python",
   "name": "python3"
  },
  "language_info": {
   "codemirror_mode": {
    "name": "ipython",
    "version": 3
   },
   "file_extension": ".py",
   "mimetype": "text/x-python",
   "name": "python",
   "nbconvert_exporter": "python",
   "pygments_lexer": "ipython3",
   "version": "3.10.9"
  }
 },
 "nbformat": 4,
 "nbformat_minor": 1
}
